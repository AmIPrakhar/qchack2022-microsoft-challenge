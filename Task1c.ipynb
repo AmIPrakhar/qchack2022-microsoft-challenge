{
  "cells": [
    {
      "cell_type": "code",
      "source": [
        "from azure.quantum import Workspace\n",
        "workspace = Workspace (\n",
        "    subscription_id = \"b0c3bbe3-7123-4ba4-9aa2-57d9845f4a1d\",\n",
        "    resource_group = \"azurequantum\",\n",
        "    name = \"qchack-2022-b\",\n",
        "    location = \"eastus\"\n",
        ")\n"
      ],
      "outputs": [],
      "execution_count": 9,
      "metadata": {
        "jupyter": {
          "source_hidden": false,
          "outputs_hidden": false
        },
        "nteract": {
          "transient": {
            "deleting": false
          }
        }
      }
    },
    {
      "cell_type": "code",
      "source": [
        "from azure.quantum.qiskit import AzureQuantumProvider\r\n",
        "provider = AzureQuantumProvider (\r\n",
        "    resource_id = \"/subscriptions/b0c3bbe3-7123-4ba4-9aa2-57d9845f4a1d/resourceGroups/azurequantum/providers/Microsoft.Quantum/Workspaces/qchack-2022-b\",\r\n",
        "    location = \"eastus\"\r\n",
        ")"
      ],
      "outputs": [],
      "execution_count": 10,
      "metadata": {
        "jupyter": {
          "source_hidden": false,
          "outputs_hidden": false
        },
        "nteract": {
          "transient": {
            "deleting": false
          }
        }
      }
    },
    {
      "cell_type": "code",
      "source": [
        "from qiskit import QuantumCircuit\r\n",
        "from qiskit.visualization import plot_histogram\r\n",
        "from qiskit.tools.monitor import job_monitor\r\n",
        "\r\n",
        "print(\"This workspace's targets:\")\r\n",
        "for backend in provider.backends():\r\n",
        "    print(\"- \" + backend.name())"
      ],
      "outputs": [
        {
          "output_type": "stream",
          "name": "stdout",
          "text": "This workspace's targets:\n- ionq.qpu\n- ionq.simulator\n- quantinuum.hqs-lt-s1\n- quantinuum.hqs-lt-s1-apival\n- quantinuum.hqs-lt-s2\n- quantinuum.hqs-lt-s2-apival\n- quantinuum.hqs-lt-s1-sim\n- quantinuum.hqs-lt-s2-sim\n"
        }
      ],
      "execution_count": 11,
      "metadata": {
        "jupyter": {
          "source_hidden": false,
          "outputs_hidden": false
        },
        "nteract": {
          "transient": {
            "deleting": false
          }
        }
      }
    },
    {
      "cell_type": "code",
      "source": [
        "# Create a quantum circuit acting on a single qubit\r\n",
        "circuit = QuantumCircuit(1,1)\r\n",
        "circuit.name = \"Single qubit random\"\r\n",
        "circuit.h(0)\r\n",
        "circuit.measure(0, 0)\r\n",
        "\r\n",
        "# Print out the circuit\r\n",
        "circuit.draw()"
      ],
      "outputs": [
        {
          "output_type": "execute_result",
          "execution_count": 12,
          "data": {
            "text/plain": "     ┌───┐┌─┐\n  q: ┤ H ├┤M├\n     └───┘└╥┘\nc: 1/══════╩═\n           0 ",
            "text/html": "<pre style=\"word-wrap: normal;white-space: pre;background: #fff0;line-height: 1.1;font-family: &quot;Courier New&quot;,Courier,monospace\">     ┌───┐┌─┐\n  q: ┤ H ├┤M├\n     └───┘└╥┘\nc: 1/══════╩═\n           0 </pre>"
          },
          "metadata": {}
        }
      ],
      "execution_count": 12,
      "metadata": {
        "jupyter": {
          "source_hidden": false,
          "outputs_hidden": false
        },
        "nteract": {
          "transient": {
            "deleting": false
          }
        }
      }
    },
    {
      "cell_type": "code",
      "source": [
        "# Create an object that represents Quantinuum's API validator target, \"quantinuum.hqs-lt-s2-apival\".\r\n",
        "#   Note that any target you have enabled in this workspace can\r\n",
        "#   be used here. Azure Quantum makes it extremely easy to submit\r\n",
        "#   the same quantum program to different providers. \r\n",
        "quantinuum_api_val_backend = provider.get_backend(\"quantinuum.hqs-lt-s2-apival\")\r\n",
        "\r\n",
        "# Using the Quantinuum target, call \"run\" to submit the job. We'll\r\n",
        "# use a count of 100 (simulated runs).\r\n",
        "job_api_val = quantinuum_api_val_backend.run(circuit, count=100)\r\n",
        "print(\"Job id:\", job_api_val.id())"
      ],
      "outputs": [
        {
          "output_type": "stream",
          "name": "stdout",
          "text": "Job id: 1eabcc72-b8c8-11ec-bec7-00155df1b04f\n"
        }
      ],
      "execution_count": 13,
      "metadata": {
        "jupyter": {
          "source_hidden": false,
          "outputs_hidden": false
        },
        "nteract": {
          "transient": {
            "deleting": false
          }
        }
      }
    },
    {
      "cell_type": "code",
      "source": [
        "job_monitor(job_api_val)\r\n",
        "\r\n",
        "result_api_val = job_api_val.result()\r\n",
        "\r\n",
        "# The result object is native to the Qiskit package, so we can use Qiskit's tools to print the result as a histogram.\r\n",
        "# For API validation, we expect to see all zeroes.\r\n",
        "plot_histogram(result_api_val.get_counts(circuit), title=\"Result\", number_to_keep=2)"
      ],
      "outputs": [
        {
          "output_type": "stream",
          "name": "stdout",
          "text": "Job Status: job has successfully run\n"
        },
        {
          "output_type": "execute_result",
          "execution_count": 14,
          "data": {
            "text/plain": "<Figure size 504x360 with 1 Axes>",
            "image/png": "[encoded data removed]"
          },
          "metadata": {}
        }
      ],
      "execution_count": 14,
      "metadata": {
        "jupyter": {
          "source_hidden": false,
          "outputs_hidden": false
        },
        "nteract": {
          "transient": {
            "deleting": false
          }
        }
      }
    },
    {
      "cell_type": "code",
      "source": [
        "# Create an object that represents Quantinuum's API emulator target, \"quantinuum.hqs-lt-s2-sim\".\r\n",
        "quantinuum_sim_backend = provider.get_backend(\"quantinuum.hqs-lt-s2-sim\")\r\n",
        "cost = quantinuum_sim_backend.estimate_cost(circuit, shots=100)\r\n",
        "print(f\"Estimated cost: {cost.estimated_total} {cost.currency_code}\")"
      ],
      "outputs": [
        {
          "output_type": "stream",
          "name": "stdout",
          "text": "Estimated cost: 5.12 EHQC\n"
        }
      ],
      "execution_count": 15,
      "metadata": {
        "jupyter": {
          "source_hidden": false,
          "outputs_hidden": false
        },
        "nteract": {
          "transient": {
            "deleting": false
          }
        }
      }
    },
    {
      "cell_type": "code",
      "source": [
        "# Using the Quantinuum target target, call \"run\" to submit the job. We'll\r\n",
        "# use a count of 100 (simulated runs).\r\n",
        "job_sim = quantinuum_sim_backend.run(circuit, count=100)\r\n",
        "print(\"Job id:\", job_sim.id())"
      ],
      "outputs": [
        {
          "output_type": "stream",
          "name": "stdout",
          "text": "Job id: 2645e72e-b8c8-11ec-bec7-00155df1b04f\n"
        }
      ],
      "execution_count": 16,
      "metadata": {
        "jupyter": {
          "source_hidden": false,
          "outputs_hidden": false
        },
        "nteract": {
          "transient": {
            "deleting": false
          }
        }
      }
    },
    {
      "cell_type": "code",
      "source": [
        "job_monitor(job_sim)\r\n",
        "\r\n",
        "result_sim = job_sim.result()\r\n",
        "\r\n",
        "# The result object is native to the Qiskit package, so we can use Qiskit's tools to print the result as a histogram.\r\n",
        "# For running on an emulator, we expect to see random bits generated.\r\n",
        "plot_histogram(result_sim.get_counts(circuit), title=\"Result\")"
      ],
      "outputs": [
        {
          "output_type": "stream",
          "name": "stdout",
          "text": "Job Status: job has successfully run\n"
        },
        {
          "output_type": "execute_result",
          "execution_count": 17,
          "data": {
            "text/plain": "<Figure size 504x360 with 1 Axes>",
            "image/png": "[encoded data removed]"
          },
          "metadata": {}
        }
      ],
      "execution_count": 17,
      "metadata": {
        "jupyter": {
          "source_hidden": false,
          "outputs_hidden": false
        },
        "nteract": {
          "transient": {
            "deleting": false
          }
        }
      }
    },
    {
      "cell_type": "code",
      "source": [],
      "outputs": [],
      "execution_count": null,
      "metadata": {
        "jupyter": {
          "source_hidden": false,
          "outputs_hidden": false
        },
        "nteract": {
          "transient": {
            "deleting": false
          }
        }
      }
    }
  ],
  "metadata": {
    "language_info": {
      "name": "python",
      "version": "3.7.13",
      "mimetype": "text/x-python",
      "codemirror_mode": {
        "name": "ipython",
        "version": 3
      },
      "pygments_lexer": "ipython3",
      "nbconvert_exporter": "python",
      "file_extension": ".py"
    },
    "kernelspec": {
      "name": "python3",
      "language": "python",
      "display_name": "Python 3 (ipykernel)"
    },
    "kernel_info": {
      "name": "python3"
    },
    "nteract": {
      "version": "nteract-front-end@1.0.0"
    }
  },
  "nbformat": 4,
  "nbformat_minor": 0
}
