{
  "cells": [
    {
      "cell_type": "code",
      "source": [
        "import numpy as np\n",
        "import qiskit.pulse\n",
        "# Importing standard Qiskit libraries\n",
        "from qiskit import QuantumCircuit, transpile, Aer, IBMQ\n",
        "from qiskit.tools.jupyter import *\n",
        "from qiskit.visualization import *\n",
        "import qiskit.providers\n",
        "import qiskit.quantum_info\n",
        "from qiskit.quantum_info import Choi\n",
        "import qiskit.quantum_info as qi\n",
        "\n",
        "\n",
        "from qiskit import transpile, schedule\n",
        "from qiskit.circuit import QuantumRegister, QuantumCircuit, Gate\n",
        "from qiskit.pulse import Schedule, Play, ControlChannel\n",
        "from qiskit.pulse import GaussianSquare\n",
        "from qiskit.ignis.verification.tomography import process_tomography_circuits, ProcessTomographyFitter\n",
        "from qiskit.test.mock import FakeAlmaden\n"
      ],
      "outputs": [
        {
          "output_type": "error",
          "ename": "ModuleNotFoundError",
          "evalue": "No module named 'qiskit.providers.aer'",
          "traceback": [
            "\u001b[0;31m---------------------------------------------------------------------------\u001b[0m",
            "\u001b[0;31mModuleNotFoundError\u001b[0m                       Traceback (most recent call last)",
            "\u001b[0;32m/tmp/ipykernel_4164/2024498519.py\u001b[0m in \u001b[0;36m<module>\u001b[0;34m\u001b[0m\n\u001b[1;32m      6\u001b[0m \u001b[0;32mfrom\u001b[0m \u001b[0mqiskit\u001b[0m\u001b[0;34m.\u001b[0m\u001b[0mvisualization\u001b[0m \u001b[0;32mimport\u001b[0m \u001b[0;34m*\u001b[0m\u001b[0;34m\u001b[0m\u001b[0;34m\u001b[0m\u001b[0m\n\u001b[1;32m      7\u001b[0m \u001b[0;32mimport\u001b[0m \u001b[0mqiskit\u001b[0m\u001b[0;34m.\u001b[0m\u001b[0mproviders\u001b[0m\u001b[0;34m\u001b[0m\u001b[0;34m\u001b[0m\u001b[0m\n\u001b[0;32m----> 8\u001b[0;31m \u001b[0;32mimport\u001b[0m \u001b[0mqiskit\u001b[0m\u001b[0;34m.\u001b[0m\u001b[0mproviders\u001b[0m\u001b[0;34m.\u001b[0m\u001b[0maer\u001b[0m\u001b[0;34m\u001b[0m\u001b[0;34m\u001b[0m\u001b[0m\n\u001b[0m\u001b[1;32m      9\u001b[0m \u001b[0;32mimport\u001b[0m \u001b[0mqiskit\u001b[0m\u001b[0;34m.\u001b[0m\u001b[0mquantum_info\u001b[0m\u001b[0;34m\u001b[0m\u001b[0;34m\u001b[0m\u001b[0m\n\u001b[1;32m     10\u001b[0m \u001b[0;32mfrom\u001b[0m \u001b[0mqiskit\u001b[0m\u001b[0;34m.\u001b[0m\u001b[0mquantum_info\u001b[0m \u001b[0;32mimport\u001b[0m \u001b[0mChoi\u001b[0m\u001b[0;34m\u001b[0m\u001b[0;34m\u001b[0m\u001b[0m\n",
            "\u001b[0;31mModuleNotFoundError\u001b[0m: No module named 'qiskit.providers.aer'"
          ]
        }
      ],
      "execution_count": 30,
      "metadata": {},
      "id": "b1f9feac-ef6c-439c-89f4-3c81f82cd47f"
    },
    {
      "cell_type": "code",
      "source": [
        "from azure.quantum.qiskit import AzureQuantumProvider\r\n",
        "provider = AzureQuantumProvider (\r\n",
        "    resource_id = \"/subscriptions/b0c3bbe3-7123-4ba4-9aa2-57d9845f4a1d/resourceGroups/azurequantum/providers/Microsoft.Quantum/Workspaces/qchack-2022-b\",\r\n",
        "    location = \"eastus\"\r\n",
        ")"
      ],
      "outputs": [],
      "execution_count": 35,
      "metadata": {
        "jupyter": {
          "source_hidden": false,
          "outputs_hidden": false
        },
        "nteract": {
          "transient": {
            "deleting": false
          }
        }
      },
      "id": "e0a674fc-dee3-48f4-8e95-4accdee4b330"
    },
    {
      "cell_type": "code",
      "source": [
        "# Process tomography\n",
        "q = QuantumRegister(3)\n",
        "circ = QuantumCircuit(q)\n",
        "circ.h(q[0])\n",
        "circ.x(q[1])\n",
        "circ.cx(q[0],q[2])\n",
        "\n",
        "# Get the ideal unitary operator\n",
        "target_unitary = qi.Operator(circ)\n",
        "\n",
        "# Generate process tomography circuits and run on qasm simulator\n",
        "qpt_circs = process_tomography_circuits(circ, q)\n",
        "quantinuum_sim_backend = provider.get_backend(\"quantinuum.hqs-lt-s2-sim\")\n",
        "job = qiskit.execute(qpt_circs, backend = backend, shots=4000)\n",
        "\n",
        "# Extract tomography data so that counts are indexed by measurement configuration\n",
        "qpt_tomo = ProcessTomographyFitter(job.result(), qpt_circs)\n",
        "qpt_tomo.data"
      ],
      "outputs": [
        {
          "output_type": "stream",
          "name": "stderr",
          "text": "/usr/local/lib/python3.7/site-packages/qiskit/test/mock/fake_backend.py:460: RuntimeWarning: Aer not found using BasicAer and no noise\n  warnings.warn(\"Aer not found using BasicAer and no noise\", RuntimeWarning)\n"
        }
      ],
      "execution_count": 39,
      "metadata": {},
      "id": "f8824912-72d7-4fea-954b-91e8f2f9a3d7"
    },
    {
      "cell_type": "code",
      "source": [
        "import time\r\n",
        "t = time.time()\r\n",
        "choi_fit_lstsq = qpt_tomo.fit(method='lstsq')\r\n",
        "\r\n",
        "print('Fit time:', time.time() - t)\r\n",
        "print('Average gate fidelity: F = {:.5f}'.format(qi.average_gate_fidelity(choi_fit_lstsq, target=target_unitary)))"
      ],
      "outputs": [
        {
          "output_type": "stream",
          "name": "stdout",
          "text": "Fit time: 229.64727878570557\nAverage gate fidelity: F = 0.98737\n"
        }
      ],
      "execution_count": 27,
      "metadata": {},
      "id": "eb33d85c-ddda-4e19-926c-9be4f3dc9eb8"
    },
    {
      "cell_type": "code",
      "source": [
        "# Unique name for the instruction.\r\n",
        "gate_name = 'cr1'\r\n",
        "\r\n",
        "# Pulse parameters determined during calibration.\r\n",
        "duration = 769\r\n",
        "sigma = 42\r\n",
        "square_width = 62\r\n",
        "amp = 0.4\r\n",
        "# Call the backend and get basis_gates and inst_map.\r\n",
        "backend = FakeAlmaden()\r\n",
        "config = backend.configuration()\r\n",
        "defaults = backend.defaults()\r\n",
        "basis_gates = config.basis_gates\r\n",
        "inst_map = defaults.instruction_schedule_map\r\n",
        "\r\n",
        "# Create the CR1 schedule.\r\n",
        "cr1_pulse = GaussianSquare(duration, amp, sigma, square_width)\r\n",
        "sched = Schedule()\r\n",
        "sched += Play(cr1_pulse, ControlChannel(0))\r\n",
        "\r\n",
        "# Add the CR1 instruction to basis_gates and inst_map.\r\n",
        "basis_gates += [gate_name]\r\n",
        "inst_map.add(gate_name, [1, 0], sched)\r\n",
        "\r\n",
        "# Create a quantum gate to reference the CR1 pulse schedule.\r\n",
        "cr1_gate = Gate(gate_name, 2, [])\r\n",
        "\r\n",
        "# Create the QPT circuits.\r\n",
        "qregs = QuantumRegister(3)\r\n",
        "circuit = QuantumCircuit(qregs)\r\n",
        "circuit.append(cr1_gate, qargs=[qregs[1], qregs[0]])\r\n",
        "print (circuit)\r\n",
        "qpt_circuits = process_tomography_circuits(circuit, [qregs[0], qregs[1]])\r\n",
        "\r\n",
        "# Create the QPT pulse schedules.\r\n",
        "qpt_circuits_1 = transpile(qpt_circuits, backend, basis_gates)\r\n",
        "qpt_schedules = schedule(qpt_circuits_1, backend, inst_map)\r\n",
        "#job = qiskit.execute(qpt_circuits, backend = backend, shots=5000)\r\n"
      ],
      "outputs": [
        {
          "output_type": "stream",
          "name": "stdout",
          "text": "       ┌──────┐\nq11_0: ┤1     ├\n       │  cr1 │\nq11_1: ┤0     ├\n       └──────┘\nq11_2: ────────\n               \n"
        }
      ],
      "execution_count": 32,
      "metadata": {
        "jupyter": {
          "source_hidden": false,
          "outputs_hidden": false
        },
        "nteract": {
          "transient": {
            "deleting": false
          }
        }
      },
      "id": "c2eb4d73-c70d-4cda-825b-fcdc57684c14"
    },
    {
      "cell_type": "code",
      "source": [],
      "outputs": [],
      "execution_count": null,
      "metadata": {
        "jupyter": {
          "source_hidden": false,
          "outputs_hidden": false
        },
        "nteract": {
          "transient": {
            "deleting": false
          }
        }
      },
      "id": "998b304e-a54a-462d-8a12-e2b6a73b5f7f"
    }
  ],
  "metadata": {
    "kernelspec": {
      "name": "python3",
      "language": "python",
      "display_name": "Python 3 (ipykernel)"
    },
    "language_info": {
      "name": "python",
      "version": "3.7.13",
      "mimetype": "text/x-python",
      "codemirror_mode": {
        "name": "ipython",
        "version": 3
      },
      "pygments_lexer": "ipython3",
      "nbconvert_exporter": "python",
      "file_extension": ".py"
    },
    "widgets": {
      "application/vnd.jupyter.widget-state+json": {
        "state": {
          "e923968c25d74e98bd2e54ab516b1a6f": {
            "model_module": "@jupyter-widgets/controls",
            "model_module_version": "1.5.0",
            "model_name": "ButtonStyleModel",
            "state": {}
          },
          "eaa1da1bd7ee4048bbc3682295b06285": {
            "model_module": "@jupyter-widgets/controls",
            "model_module_version": "1.5.0",
            "model_name": "HTMLModel",
            "state": {
              "layout": "IPY_MODEL_0272a9f91c6a48d4901752f289a6e3dd",
              "style": "IPY_MODEL_9248122be4c241e1b11350bca7c16f07",
              "value": "<p style='font-family: IBM Plex Sans, Arial, Helvetica, sans-serif; font-size: 20px; font-weight: medium;'>Circuit Properties</p>"
            }
          },
          "0272a9f91c6a48d4901752f289a6e3dd": {
            "model_module": "@jupyter-widgets/base",
            "model_module_version": "1.2.0",
            "model_name": "LayoutModel",
            "state": {
              "margin": "0px 0px 10px 0px"
            }
          },
          "d0f2b77aaf314fcb8e8a693940752f6b": {
            "model_module": "@jupyter-widgets/base",
            "model_module_version": "1.2.0",
            "model_name": "LayoutModel",
            "state": {
              "margin": "0px 0px 0px 37px",
              "width": "600px"
            }
          },
          "cb787dba9d98486cb3198f3734cd383b": {
            "model_module": "@jupyter-widgets/controls",
            "model_module_version": "1.5.0",
            "model_name": "ButtonModel",
            "state": {
              "button_style": "primary",
              "description": "Clear",
              "layout": "IPY_MODEL_0752c4b1db93466598cac09f2f1720f5",
              "style": "IPY_MODEL_e923968c25d74e98bd2e54ab516b1a6f"
            }
          },
          "4a04cf6d9b5f4b1c80fc3e1fa22bd852": {
            "model_module": "@jupyter-widgets/controls",
            "model_module_version": "1.5.0",
            "model_name": "DescriptionStyleModel",
            "state": {
              "description_width": ""
            }
          },
          "28a2e4c8b9bc443f9e648bf09d7322bc": {
            "model_module": "@jupyter-widgets/controls",
            "model_module_version": "1.5.0",
            "model_name": "DescriptionStyleModel",
            "state": {
              "description_width": ""
            }
          },
          "081d3bb25bd14b0da56f0565ee1a5ac6": {
            "model_module": "@jupyter-widgets/controls",
            "model_module_version": "1.5.0",
            "model_name": "HTMLModel",
            "state": {
              "layout": "IPY_MODEL_c23fcd3c166e434c854c0841124168d1",
              "style": "IPY_MODEL_d9ab34a6da254e4ca1153b9aacdde3d7",
              "value": "<h5>Message</h5>"
            }
          },
          "d4343b7ecb994d18a4dd457f73b1e2a1": {
            "model_module": "@jupyter-widgets/controls",
            "model_module_version": "1.5.0",
            "model_name": "DescriptionStyleModel",
            "state": {
              "description_width": ""
            }
          },
          "d7f7b9e35ac04512846c48ac10e241e9": {
            "model_module": "@jupyter-widgets/base",
            "model_module_version": "1.2.0",
            "model_name": "LayoutModel",
            "state": {
              "width": "95px"
            }
          },
          "f72baf34b40b4c2aaaa2d9d98aafde20": {
            "model_module": "@jupyter-widgets/controls",
            "model_module_version": "1.5.0",
            "model_name": "DescriptionStyleModel",
            "state": {
              "description_width": ""
            }
          },
          "98d8f19cc8394032a8f36044b5d9eb4d": {
            "model_module": "@jupyter-widgets/base",
            "model_module_version": "1.2.0",
            "model_name": "LayoutModel",
            "state": {
              "width": "70px"
            }
          },
          "c23fcd3c166e434c854c0841124168d1": {
            "model_module": "@jupyter-widgets/base",
            "model_module_version": "1.2.0",
            "model_name": "LayoutModel",
            "state": {}
          },
          "f0356801c3fe48c1a5b9814d5666f6cd": {
            "model_module": "@jupyter-widgets/base",
            "model_module_version": "1.2.0",
            "model_name": "LayoutModel",
            "state": {
              "width": "190px"
            }
          },
          "2742f9f2445941d09ed724960f0b9319": {
            "model_module": "@jupyter-widgets/base",
            "model_module_version": "1.2.0",
            "model_name": "LayoutModel",
            "state": {
              "grid_template_areas": "\n                                       \". . . . right \"\n                                        ",
              "grid_template_columns": "20% 20% 20% 20% 20%",
              "width": "100%"
            }
          },
          "da04c86595894d55a9c1d977a05badfb": {
            "model_module": "@jupyter-widgets/controls",
            "model_module_version": "1.5.0",
            "model_name": "HTMLModel",
            "state": {
              "layout": "IPY_MODEL_98d8f19cc8394032a8f36044b5d9eb4d",
              "style": "IPY_MODEL_4a04cf6d9b5f4b1c80fc3e1fa22bd852",
              "value": "<h5>Queue</h5>"
            }
          },
          "64d43d3694be4a989b585d9e6b150f32": {
            "model_module": "@jupyter-widgets/controls",
            "model_module_version": "1.5.0",
            "model_name": "HTMLModel",
            "state": {
              "layout": "IPY_MODEL_d7f7b9e35ac04512846c48ac10e241e9",
              "style": "IPY_MODEL_f72baf34b40b4c2aaaa2d9d98aafde20",
              "value": "<h5>Status</h5>"
            }
          },
          "2002c9061f3a404da9e5c7eed54b25c2": {
            "model_module": "@jupyter-widgets/controls",
            "model_module_version": "1.5.0",
            "model_name": "GridBoxModel",
            "state": {
              "children": [
                "IPY_MODEL_cb787dba9d98486cb3198f3734cd383b"
              ],
              "layout": "IPY_MODEL_2742f9f2445941d09ed724960f0b9319"
            }
          },
          "0bf7c674c072498e8ec38852068f54dd": {
            "model_module": "@jupyter-widgets/controls",
            "model_module_version": "1.5.0",
            "model_name": "HTMLModel",
            "state": {
              "layout": "IPY_MODEL_bf6204425e734b2d8d0673e433d45862",
              "style": "IPY_MODEL_28a2e4c8b9bc443f9e648bf09d7322bc",
              "value": "<h5>Backend</h5>"
            }
          },
          "bf6204425e734b2d8d0673e433d45862": {
            "model_module": "@jupyter-widgets/base",
            "model_module_version": "1.2.0",
            "model_name": "LayoutModel",
            "state": {
              "width": "145px"
            }
          },
          "d9ab34a6da254e4ca1153b9aacdde3d7": {
            "model_module": "@jupyter-widgets/controls",
            "model_module_version": "1.5.0",
            "model_name": "DescriptionStyleModel",
            "state": {
              "description_width": ""
            }
          },
          "0752c4b1db93466598cac09f2f1720f5": {
            "model_module": "@jupyter-widgets/base",
            "model_module_version": "1.2.0",
            "model_name": "LayoutModel",
            "state": {
              "grid_area": "right",
              "padding": "0px 0px 0px 0px",
              "width": "70px"
            }
          },
          "2b1fa90053724990aa22c62349dde7ba": {
            "model_module": "@jupyter-widgets/controls",
            "model_module_version": "1.5.0",
            "model_name": "HTMLModel",
            "state": {
              "layout": "IPY_MODEL_f0356801c3fe48c1a5b9814d5666f6cd",
              "style": "IPY_MODEL_d4343b7ecb994d18a4dd457f73b1e2a1",
              "value": "<h5>Job ID</h5>"
            }
          },
          "9248122be4c241e1b11350bca7c16f07": {
            "model_module": "@jupyter-widgets/controls",
            "model_module_version": "1.5.0",
            "model_name": "DescriptionStyleModel",
            "state": {
              "description_width": ""
            }
          },
          "3a32d71e7bac4e57aeb7e1146c3224c8": {
            "model_module": "@jupyter-widgets/controls",
            "model_module_version": "1.5.0",
            "model_name": "HBoxModel",
            "state": {
              "children": [
                "IPY_MODEL_2b1fa90053724990aa22c62349dde7ba",
                "IPY_MODEL_0bf7c674c072498e8ec38852068f54dd",
                "IPY_MODEL_64d43d3694be4a989b585d9e6b150f32",
                "IPY_MODEL_da04c86595894d55a9c1d977a05badfb",
                "IPY_MODEL_081d3bb25bd14b0da56f0565ee1a5ac6"
              ],
              "layout": "IPY_MODEL_d0f2b77aaf314fcb8e8a693940752f6b"
            }
          }
        },
        "version_major": 2,
        "version_minor": 0
      }
    },
    "kernel_info": {
      "name": "python3"
    },
    "nteract": {
      "version": "nteract-front-end@1.0.0"
    }
  },
  "nbformat": 4,
  "nbformat_minor": 5
}