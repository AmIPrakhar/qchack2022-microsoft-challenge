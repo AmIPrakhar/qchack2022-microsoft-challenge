{
  "cells": [
    {
      "cell_type": "code",
      "source": [
        "from azure.quantum import Workspace\n",
        "workspace = Workspace (\n",
        "    subscription_id = \"b0c3bbe3-7123-4ba4-9aa2-57d9845f4a1d\",\n",
        "    resource_group = \"azurequantum\",\n",
        "    name = \"qchack-2022-b\",\n",
        "    location = \"eastus\"\n",
        ")\n"
      ],
      "outputs": [
        {
          "output_type": "stream",
          "name": "stderr",
          "text": "/snippet_.qs(1,6): error QS3035: Unexpected code fragment.\n/snippet_.qs(1,1): error QS3036: An expression used as a statement must be a call expression.\n"
        }
      ],
      "execution_count": 2,
      "metadata": {
        "jupyter": {
          "source_hidden": false,
          "outputs_hidden": false
        },
        "nteract": {
          "transient": {
            "deleting": false
          }
        }
      }
    },
    {
      "cell_type": "code",
      "source": [
        "\r\n",
        "// Phase oracles we'll use to demonstrate Deutsch algorithm\r\n",
        "operation PhaseOracle_Zero (x : Qubit) : Unit {\r\n",
        "    // Do nothing...\r\n",
        "}\r\n",
        "\r\n",
        "operation PhaseOracle_X (x : Qubit) : Unit {\r\n",
        "    Z(x);\r\n",
        "}\r\n",
        "\r\n",
        "operation DeutschAlgorithm (oracle : (Qubit => Unit)) : Result {\r\n",
        "    use x = Qubit();\r\n",
        "    H(x);\r\n",
        "    oracle(x);\r\n",
        "    H(x);\r\n",
        "    return M(x);\r\n",
        "}"
      ],
      "outputs": [
        {
          "output_type": "execute_result",
          "execution_count": 3,
          "data": {
            "text/plain": "PhaseOracle_Zero, PhaseOracle_X, DeutschAlgorithm",
            "text/html": "<ul><li>PhaseOracle_Zero</li><li>PhaseOracle_X</li><li>DeutschAlgorithm</li></ul>",
            "application/x-qsharp-data": "[\"PhaseOracle_Zero\",\"PhaseOracle_X\",\"DeutschAlgorithm\"]"
          },
          "metadata": {}
        }
      ],
      "execution_count": 3,
      "metadata": {
        "jupyter": {
          "source_hidden": false,
          "outputs_hidden": false
        },
        "nteract": {
          "transient": {
            "deleting": false
          }
        },
        "microsoft": {}
      }
    },
    {
      "cell_type": "code",
      "source": [
        "operation DeutschAlgorithmWrapper (oracleFunction : String) : Result {\r\n",
        "    Message($\"Running Deutsch algorithm for f(x) = {oracleFunction}\");\r\n",
        "    if oracleFunction == \"0\" {\r\n",
        "        return DeutschAlgorithm(PhaseOracle_Zero);\r\n",
        "    } elif oracleFunction == \"x\" {\r\n",
        "        return DeutschAlgorithm(PhaseOracle_X);\r\n",
        "    } else {\r\n",
        "        fail $\"Unknown function f(x) = {oracleFunction}\";\r\n",
        "    }\r\n",
        "}"
      ],
      "outputs": [
        {
          "output_type": "execute_result",
          "execution_count": 4,
          "data": {
            "text/plain": "DeutschAlgorithmWrapper",
            "text/html": "<ul><li>DeutschAlgorithmWrapper</li></ul>",
            "application/x-qsharp-data": "[\"DeutschAlgorithmWrapper\"]"
          },
          "metadata": {}
        }
      ],
      "execution_count": 4,
      "metadata": {
        "jupyter": {
          "source_hidden": false,
          "outputs_hidden": false
        },
        "nteract": {
          "transient": {
            "deleting": false
          }
        }
      }
    },
    {
      "cell_type": "code",
      "source": [
        "%simulate DeutschAlgorithmWrapper oracleFunction=0"
      ],
      "outputs": [
        {
          "output_type": "stream",
          "name": "stdout",
          "text": "Running Deutsch algorithm for f(x) = 0\n"
        },
        {
          "output_type": "execute_result",
          "execution_count": 5,
          "data": {
            "text/plain": "Zero",
            "application/x-qsharp-data": "0"
          },
          "metadata": {}
        }
      ],
      "execution_count": 5,
      "metadata": {
        "jupyter": {
          "source_hidden": false,
          "outputs_hidden": false
        },
        "nteract": {
          "transient": {
            "deleting": false
          }
        }
      }
    },
    {
      "cell_type": "code",
      "source": [
        "%simulate DeutschAlgorithmWrapper oracleFunction=x"
      ],
      "outputs": [
        {
          "output_type": "stream",
          "name": "stdout",
          "text": "Running Deutsch algorithm for f(x) = x\n"
        },
        {
          "output_type": "execute_result",
          "execution_count": 6,
          "data": {
            "text/plain": "One",
            "application/x-qsharp-data": "1"
          },
          "metadata": {}
        }
      ],
      "execution_count": 6,
      "metadata": {
        "jupyter": {
          "source_hidden": false,
          "outputs_hidden": false
        },
        "nteract": {
          "transient": {
            "deleting": false
          }
        }
      }
    },
    {
      "cell_type": "code",
      "source": [
        "%azure.connect \"/subscriptions/b0c3bbe3-7123-4ba4-9aa2-57d9845f4a1d/resourceGroups/azurequantum/providers/Microsoft.Quantum/Workspaces/qchack-2022-b\" location=\"eastus\""
      ],
      "outputs": [
        {
          "output_type": "stream",
          "name": "stdout",
          "text": "Authenticated using Microsoft.Azure.Quantum.Authentication.TokenFileCredential\n\n\nConnected to Azure Quantum workspace qchack-2022-b in location eastus.\n"
        },
        {
          "output_type": "execute_result",
          "execution_count": 7,
          "data": {
            "text/plain": "Target ID                   Current Availability Average Queue Time (Seconds)\n--------------------------- ----------- --\nionq.qpu                    Available   56\nionq.simulator              Available   2\nquantinuum.hqs-lt-s1        Unavailable 0\nquantinuum.hqs-lt-s1-apival Available   0\nquantinuum.hqs-lt-s2        Unavailable 0\nquantinuum.hqs-lt-s2-apival Available   0\nquantinuum.hqs-lt-s1-sim    Available   31\nquantinuum.hqs-lt-s2-sim    Available   9\nquantinuum.hqs-lt           Unavailable 0\n",
            "text/html": "<table><thead><tr><th style=\"text-align: start;\">Target ID</th><th style=\"text-align: start;\">Current Availability</th><th style=\"text-align: start;\">Average Queue Time (Seconds)</th></tr></thead><tbody><tr><td style=\"text-align: start;\">ionq.qpu</td><td style=\"text-align: start;\">Available</td><td style=\"text-align: start;\">56</td></tr><tr><td style=\"text-align: start;\">ionq.simulator</td><td style=\"text-align: start;\">Available</td><td style=\"text-align: start;\">2</td></tr><tr><td style=\"text-align: start;\">quantinuum.hqs-lt-s1</td><td style=\"text-align: start;\">Unavailable</td><td style=\"text-align: start;\">0</td></tr><tr><td style=\"text-align: start;\">quantinuum.hqs-lt-s1-apival</td><td style=\"text-align: start;\">Available</td><td style=\"text-align: start;\">0</td></tr><tr><td style=\"text-align: start;\">quantinuum.hqs-lt-s2</td><td style=\"text-align: start;\">Unavailable</td><td style=\"text-align: start;\">0</td></tr><tr><td style=\"text-align: start;\">quantinuum.hqs-lt-s2-apival</td><td style=\"text-align: start;\">Available</td><td style=\"text-align: start;\">0</td></tr><tr><td style=\"text-align: start;\">quantinuum.hqs-lt-s1-sim</td><td style=\"text-align: start;\">Available</td><td style=\"text-align: start;\">31</td></tr><tr><td style=\"text-align: start;\">quantinuum.hqs-lt-s2-sim</td><td style=\"text-align: start;\">Available</td><td style=\"text-align: start;\">9</td></tr><tr><td style=\"text-align: start;\">quantinuum.hqs-lt</td><td style=\"text-align: start;\">Unavailable</td><td style=\"text-align: start;\">0</td></tr></tbody></table>",
            "application/x-qsharp-data": "[{\"id\":\"ionq.qpu\",\"current_availability\":{},\"average_queue_time\":56},{\"id\":\"ionq.simulator\",\"current_availability\":{},\"average_queue_time\":2},{\"id\":\"quantinuum.hqs-lt-s1\",\"current_availability\":{},\"average_queue_time\":0},{\"id\":\"quantinuum.hqs-lt-s1-apival\",\"current_availability\":{},\"average_queue_time\":0},{\"id\":\"quantinuum.hqs-lt-s2\",\"current_availability\":{},\"average_queue_time\":0},{\"id\":\"quantinuum.hqs-lt-s2-apival\",\"current_availability\":{},\"average_queue_time\":0},{\"id\":\"quantinuum.hqs-lt-s1-sim\",\"current_availability\":{},\"average_queue_time\":31},{\"id\":\"quantinuum.hqs-lt-s2-sim\",\"current_availability\":{},\"average_queue_time\":9},{\"id\":\"quantinuum.hqs-lt\",\"current_availability\":{},\"average_queue_time\":0}]"
          },
          "metadata": {}
        }
      ],
      "execution_count": 7,
      "metadata": {
        "jupyter": {
          "source_hidden": false,
          "outputs_hidden": false
        },
        "nteract": {
          "transient": {
            "deleting": false
          }
        }
      }
    },
    {
      "cell_type": "code",
      "source": [
        "%azure.target ionq.simulator"
      ],
      "outputs": [
        {
          "output_type": "stream",
          "name": "stdout",
          "text": "Loading package Microsoft.Quantum.Providers.IonQ and dependencies...\nActive target is now ionq.simulator\n"
        },
        {
          "output_type": "execute_result",
          "execution_count": 8,
          "data": {
            "text/plain": "Target ID      Current Availability Average Queue Time (Seconds)\n-------------- --------- -\nionq.simulator Available 2\n",
            "text/html": "<table><thead><tr><th style=\"text-align: start;\">Target ID</th><th style=\"text-align: start;\">Current Availability</th><th style=\"text-align: start;\">Average Queue Time (Seconds)</th></tr></thead><tbody><tr><td style=\"text-align: start;\">ionq.simulator</td><td style=\"text-align: start;\">Available</td><td style=\"text-align: start;\">2</td></tr></tbody></table>",
            "application/x-qsharp-data": "{\"id\":\"ionq.simulator\",\"current_availability\":{},\"average_queue_time\":2}"
          },
          "metadata": {}
        }
      ],
      "execution_count": 8,
      "metadata": {
        "jupyter": {
          "source_hidden": false,
          "outputs_hidden": false
        },
        "nteract": {
          "transient": {
            "deleting": false
          }
        }
      }
    },
    {
      "cell_type": "code",
      "source": [
        "%azure.submit DeutschAlgorithmWrapper oracleFunction=0"
      ],
      "outputs": [
        {
          "output_type": "stream",
          "name": "stdout",
          "text": "Submitting DeutschAlgorithmWrapper to target ionq.simulator...\nJob successfully submitted for 500 shots.\n   Job name: DeutschAlgorithmWrapper\n   Job ID: 2dee719f-190d-4a5e-8c33-44ca2ac14c1c\n"
        },
        {
          "output_type": "execute_result",
          "execution_count": 9,
          "data": {
            "text/plain": "Job Name                Job ID                                                                                                                                                                                                                                                                                                                                                 Job Status Target         Creation Time              Begin Execution Time End Execution Time Cost Estimate\n----------------------- ------------------------------------------------------------------------------------------------------------------------------------------------------------------------------------------------------------------------------------------------------------------------------------------------------------------------------------------------------ ------- -------------- --------------------------\nDeutschAlgorithmWrapper <a href=\"https://portal.azure.com/#@microsoft.onmicrosoft.com/resource/subscriptions/b0c3bbe3-7123-4ba4-9aa2-57d9845f4a1d/resourceGroups/azurequantum/providers/Microsoft.Quantum/Workspaces/qchack-2022-b/job_management?microsoft_azure_quantum_jobid=2dee719f-190d-4a5e-8c33-44ca2ac14c1c\" target=\"_blank\">2dee719f-190d-4a5e-8c33-44ca2ac14c1c</a> Waiting ionq.simulator 04/10/2022 12:19:43 +00:00\n",
            "text/html": "<table><thead><tr><th style=\"text-align: start;\">Job Name</th><th style=\"text-align: start;\">Job ID</th><th style=\"text-align: start;\">Job Status</th><th style=\"text-align: start;\">Target</th><th style=\"text-align: start;\">Creation Time</th><th style=\"text-align: start;\">Begin Execution Time</th><th style=\"text-align: start;\">End Execution Time</th><th style=\"text-align: start;\">Cost Estimate</th></tr></thead><tbody><tr><td style=\"text-align: start;\">DeutschAlgorithmWrapper</td><td style=\"text-align: start;\"><a href=\"https://portal.azure.com/#@microsoft.onmicrosoft.com/resource/subscriptions/b0c3bbe3-7123-4ba4-9aa2-57d9845f4a1d/resourceGroups/azurequantum/providers/Microsoft.Quantum/Workspaces/qchack-2022-b/job_management?microsoft_azure_quantum_jobid=2dee719f-190d-4a5e-8c33-44ca2ac14c1c\" target=\"_blank\">2dee719f-190d-4a5e-8c33-44ca2ac14c1c</a></td><td style=\"text-align: start;\">Waiting</td><td style=\"text-align: start;\">ionq.simulator</td><td style=\"text-align: start;\">04/10/2022 12:19:43 +00:00</td><td style=\"text-align: start;\"></td><td style=\"text-align: start;\"></td><td style=\"text-align: start;\"></td></tr></tbody></table>",
            "application/x-qsharp-data": "{\"id\":\"2dee719f-190d-4a5e-8c33-44ca2ac14c1c\",\"name\":\"DeutschAlgorithmWrapper\",\"status\":\"Waiting\",\"uri\":\"https://portal.azure.com/#@microsoft.onmicrosoft.com/resource/subscriptions/b0c3bbe3-7123-4ba4-9aa2-57d9845f4a1d/resourceGroups/azurequantum/providers/Microsoft.Quantum/Workspaces/qchack-2022-b/job_management?microsoft_azure_quantum_jobid=2dee719f-190d-4a5e-8c33-44ca2ac14c1c\",\"provider\":\"ionq\",\"target\":\"ionq.simulator\",\"creation_time\":\"2022-04-10T12:19:43.7884336+00:00\",\"begin_execution_time\":null,\"end_execution_time\":null,\"cost_estimate\":\"\"}"
          },
          "metadata": {}
        }
      ],
      "execution_count": 9,
      "metadata": {
        "jupyter": {
          "source_hidden": false,
          "outputs_hidden": false
        },
        "nteract": {
          "transient": {
            "deleting": false
          }
        }
      }
    },
    {
      "cell_type": "code",
      "source": [
        "%azure.status"
      ],
      "outputs": [
        {
          "output_type": "execute_result",
          "execution_count": 10,
          "data": {
            "text/plain": "Job Name                Job ID                                                                                                                                                                                                                                                                                                                                                 Job Status Target         Creation Time              Begin Execution Time End Execution Time Cost Estimate\n----------------------- ------------------------------------------------------------------------------------------------------------------------------------------------------------------------------------------------------------------------------------------------------------------------------------------------------------------------------------------------------ ------- -------------- --------------------------\nDeutschAlgorithmWrapper <a href=\"https://portal.azure.com/#@microsoft.onmicrosoft.com/resource/subscriptions/b0c3bbe3-7123-4ba4-9aa2-57d9845f4a1d/resourceGroups/azurequantum/providers/Microsoft.Quantum/Workspaces/qchack-2022-b/job_management?microsoft_azure_quantum_jobid=2dee719f-190d-4a5e-8c33-44ca2ac14c1c\" target=\"_blank\">2dee719f-190d-4a5e-8c33-44ca2ac14c1c</a> Waiting ionq.simulator 04/10/2022 12:19:43 +00:00\n",
            "text/html": "<table><thead><tr><th style=\"text-align: start;\">Job Name</th><th style=\"text-align: start;\">Job ID</th><th style=\"text-align: start;\">Job Status</th><th style=\"text-align: start;\">Target</th><th style=\"text-align: start;\">Creation Time</th><th style=\"text-align: start;\">Begin Execution Time</th><th style=\"text-align: start;\">End Execution Time</th><th style=\"text-align: start;\">Cost Estimate</th></tr></thead><tbody><tr><td style=\"text-align: start;\">DeutschAlgorithmWrapper</td><td style=\"text-align: start;\"><a href=\"https://portal.azure.com/#@microsoft.onmicrosoft.com/resource/subscriptions/b0c3bbe3-7123-4ba4-9aa2-57d9845f4a1d/resourceGroups/azurequantum/providers/Microsoft.Quantum/Workspaces/qchack-2022-b/job_management?microsoft_azure_quantum_jobid=2dee719f-190d-4a5e-8c33-44ca2ac14c1c\" target=\"_blank\">2dee719f-190d-4a5e-8c33-44ca2ac14c1c</a></td><td style=\"text-align: start;\">Waiting</td><td style=\"text-align: start;\">ionq.simulator</td><td style=\"text-align: start;\">04/10/2022 12:19:43 +00:00</td><td style=\"text-align: start;\"></td><td style=\"text-align: start;\"></td><td style=\"text-align: start;\"></td></tr></tbody></table>",
            "application/x-qsharp-data": "{\"id\":\"2dee719f-190d-4a5e-8c33-44ca2ac14c1c\",\"name\":\"DeutschAlgorithmWrapper\",\"status\":\"Waiting\",\"uri\":\"https://portal.azure.com/#@microsoft.onmicrosoft.com/resource/subscriptions/b0c3bbe3-7123-4ba4-9aa2-57d9845f4a1d/resourceGroups/azurequantum/providers/Microsoft.Quantum/Workspaces/qchack-2022-b/job_management?microsoft_azure_quantum_jobid=2dee719f-190d-4a5e-8c33-44ca2ac14c1c\",\"provider\":\"ionq\",\"target\":\"ionq.simulator\",\"creation_time\":\"2022-04-10T12:19:43.7884336+00:00\",\"begin_execution_time\":null,\"end_execution_time\":null,\"cost_estimate\":\"\"}"
          },
          "metadata": {}
        }
      ],
      "execution_count": 10,
      "metadata": {
        "jupyter": {
          "source_hidden": false,
          "outputs_hidden": false
        },
        "nteract": {
          "transient": {
            "deleting": false
          }
        }
      }
    },
    {
      "cell_type": "code",
      "source": [
        "%azure.output"
      ],
      "outputs": [
        {
          "output_type": "stream",
          "name": "stderr",
          "text": "Job ID 2dee719f-190d-4a5e-8c33-44ca2ac14c1c has not completed. To check the status, call %azure.status with the job ID.\n"
        },
        {
          "output_type": "execute_result",
          "execution_count": 11,
          "data": {
            "text/plain": "The specified Azure Quantum job has not yet completed.",
            "text/html": "The specified Azure Quantum job has not yet completed.",
            "application/x-qsharp-data": "{\"error_code\":1005,\"error_name\":\"JobNotCompleted\",\"error_description\":\"The specified Azure Quantum job has not yet completed.\"}"
          },
          "metadata": {}
        }
      ],
      "execution_count": 11,
      "metadata": {
        "jupyter": {
          "source_hidden": false,
          "outputs_hidden": false
        },
        "nteract": {
          "transient": {
            "deleting": false
          }
        }
      }
    },
    {
      "cell_type": "code",
      "source": [],
      "outputs": [],
      "execution_count": null,
      "metadata": {
        "jupyter": {
          "source_hidden": false,
          "outputs_hidden": false
        },
        "nteract": {
          "transient": {
            "deleting": false
          }
        }
      }
    }
  ],
  "metadata": {
    "language_info": {
      "name": "qsharp",
      "version": "0.14",
      "mimetype": "text/x-qsharp",
      "file_extension": ".qs"
    },
    "kernelspec": {
      "name": "iqsharp",
      "language": "qsharp",
      "display_name": "Q#"
    },
    "kernel_info": {
      "name": "iqsharp"
    },
    "nteract": {
      "version": "nteract-front-end@1.0.0"
    }
  },
  "nbformat": 4,
  "nbformat_minor": 0
}