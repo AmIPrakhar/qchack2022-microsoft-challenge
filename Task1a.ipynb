{
  "cells": [
    {
      "cell_type": "code",
      "source": [
        "import qsharp.azure\n",
        "targets = qsharp.azure.connect(\n",
        "   resourceId=\"/subscriptions/b0c3bbe3-7123-4ba4-9aa2-57d9845f4a1d/resourceGroups/AzureQuantum/providers/Microsoft.Quantum/Workspaces/qchack-2022-b\",\n",
        "   location=\"eastus\")"
      ],
      "outputs": [
        {
          "output_type": "stream",
          "name": "stdout",
          "text": "Preparing Q# environment...\n.Authenticated using Microsoft.Azure.Quantum.Authentication.TokenFileCredential\n\n\nConnected to Azure Quantum workspace qchack-2022-b in location eastus.\n"
        }
      ],
      "execution_count": 10,
      "metadata": {
        "jupyter": {
          "source_hidden": false,
          "outputs_hidden": false
        },
        "nteract": {
          "transient": {
            "deleting": false
          }
        }
      }
    },
    {
      "cell_type": "code",
      "source": [
        "import qsharp\r\n",
        "\r\n",
        "print(\"This workspace's targets:\")\r\n",
        "for target in targets:\r\n",
        "    print(\"-\", target.id)"
      ],
      "outputs": [
        {
          "output_type": "stream",
          "name": "stdout",
          "text": "This workspace's targets:\n- ionq.qpu\n- ionq.simulator\n- quantinuum.hqs-lt-s1\n- quantinuum.hqs-lt-s1-apival\n- quantinuum.hqs-lt-s2\n- quantinuum.hqs-lt-s2-apival\n- quantinuum.hqs-lt-s1-sim\n- quantinuum.hqs-lt-s2-sim\n- quantinuum.hqs-lt\n"
        }
      ],
      "execution_count": 13,
      "metadata": {
        "jupyter": {
          "source_hidden": false,
          "outputs_hidden": false
        },
        "nteract": {
          "transient": {
            "deleting": false
          }
        }
      }
    },
    {
      "cell_type": "code",
      "source": [
        "%%qsharp\r\n",
        "open Microsoft.Quantum.Measurement;\r\n",
        "open Microsoft.Quantum.Arrays;\r\n",
        "open Microsoft.Quantum.Convert;\r\n",
        "\r\n",
        "operation Task1 (x : Qubit[], y : Qubit) : Unit is Adj + Ctl {\r\n",
        "    Controlled X([x[0]],y);\r\n",
        "    Controlled X([x[1]],y);\r\n",
        "    X(y);\r\n",
        "}"
      ],
      "outputs": [],
      "execution_count": 14,
      "metadata": {
        "jupyter": {
          "source_hidden": false,
          "outputs_hidden": false
        },
        "nteract": {
          "transient": {
            "deleting": false
          }
        },
        "microsoft": {
          "language": "qsharp"
        }
      }
    },
    {
      "cell_type": "code",
      "source": [
        "%%qsharp\r\n",
        "open Microsoft.Quantum.Arithmetic;\r\n",
        "open Microsoft.Quantum.Convert;\r\n",
        "open Microsoft.Quantum.Diagnostics;\r\n",
        "open Microsoft.Quantum.Measurement;\r\n",
        "\r\n",
        "operation VerifySingleOutputFunction(\r\n",
        "    numInputs : Int, \r\n",
        "    op : (Qubit[], Qubit) => Unit is Adj+Ctl, \r\n",
        "    predicate : Int -> Bool\r\n",
        ") : Unit {\r\n",
        "    for assignment in 0 .. 2^numInputs - 1 {\r\n",
        "        use (inputs, output) = (Qubit[numInputs], Qubit());\r\n",
        "        within {\r\n",
        "            ApplyXorInPlace(assignment, LittleEndian(inputs));\r\n",
        "            AllowAtMostNCallsCA(0, Measure, \"You are not allowed to use measurements\");\r\n",
        "        } apply {\r\n",
        "            op(inputs, output);\r\n",
        "        }\r\n",
        "\r\n",
        "        // Check that the result is expected\r\n",
        "        let actual = ResultAsBool(MResetZ(output));\r\n",
        "        let expected = predicate(assignment);\r\n",
        "        Fact(actual == expected,\r\n",
        "            $\"Oracle evaluation result {actual} does not match expected {expected} for assignment {IntAsBoolArray(assignment, numInputs)}\");\r\n",
        "\r\n",
        "        // Check that the inputs were not modified\r\n",
        "        Fact(MeasureInteger(LittleEndian(inputs)) == 0, \r\n",
        "            $\"The input states were modified for assignment {assignment}\");\r\n",
        "    }\r\n",
        "}\r\n",
        "\r\n",
        "\r\n",
        "// ------------------------------------------------------\r\n",
        "function Is03ModFour (input : Int) : Bool {\r\n",
        "    return input % 4 == 0 or input % 4 == 3;\r\n",
        "}\r\n",
        "\r\n",
        "// ------------------------------------------------------\r\n",
        "operation TestIs03ModFour() : Unit {\r\n",
        "    for i in 2 .. 5 {\r\n",
        "        VerifySingleOutputFunction(i, Task1, Is03ModFour);\r\n",
        "    }\r\n",
        "    Message(\"Success!\");\r\n",
        "}\r\n",
        "\r\n"
      ],
      "outputs": [],
      "execution_count": 18,
      "metadata": {
        "jupyter": {
          "source_hidden": false,
          "outputs_hidden": false
        },
        "nteract": {
          "transient": {
            "deleting": false
          }
        },
        "microsoft": {
          "language": "qsharp"
        }
      }
    },
    {
      "cell_type": "code",
      "source": [
        "%%qsharp\r\n",
        "%toffoli TestIs03ModFour"
      ],
      "outputs": [
        {
          "output_type": "stream",
          "name": "stdout",
          "text": "Success!\n"
        }
      ],
      "execution_count": 21,
      "metadata": {
        "jupyter": {
          "source_hidden": false,
          "outputs_hidden": false
        },
        "nteract": {
          "transient": {
            "deleting": false
          }
        },
        "microsoft": {
          "language": "qsharp"
        }
      }
    },
    {
      "cell_type": "code",
      "source": [],
      "outputs": [],
      "execution_count": null,
      "metadata": {
        "jupyter": {
          "source_hidden": false,
          "outputs_hidden": false
        },
        "nteract": {
          "transient": {
            "deleting": false
          }
        }
      }
    }
  ],
  "metadata": {
    "language_info": {
      "name": "python",
      "version": "3.7.13",
      "mimetype": "text/x-python",
      "codemirror_mode": {
        "name": "ipython",
        "version": 3
      },
      "pygments_lexer": "ipython3",
      "nbconvert_exporter": "python",
      "file_extension": ".py"
    },
    "kernelspec": {
      "name": "python3",
      "language": "python",
      "display_name": "Python 3 (ipykernel)"
    },
    "kernel_info": {
      "name": "python3"
    },
    "nteract": {
      "version": "nteract-front-end@1.0.0"
    }
  },
  "nbformat": 4,
  "nbformat_minor": 0
}
